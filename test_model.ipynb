{
 "cells": [
  {
   "cell_type": "code",
   "execution_count": 69,
   "metadata": {},
   "outputs": [],
   "source": [
    "from tensorflow.keras.preprocessing.image import ImageDataGenerator\n",
    "from tensorflow.keras.applications import VGG16\n",
    "from tensorflow.keras import models, layers\n",
    "from tensorflow.keras import optimizers\n",
    "import numpy as np"
   ]
  },
  {
   "cell_type": "code",
   "execution_count": 70,
   "metadata": {},
   "outputs": [],
   "source": [
    "from sklearn import preprocessing"
   ]
  },
  {
   "cell_type": "code",
   "execution_count": 1,
   "metadata": {},
   "outputs": [],
   "source": [
    "model_dir = 'sample_code_submission/'                        # Change the model to a better one once you have one!\n",
    "result_dir = 'sample_result_submission/' \n",
    "problem_dir = 'ingestion_program/'  \n",
    "score_dir = 'scoring_program/'\n",
    "from sys import path; path.append(model_dir); path.append(problem_dir); path.append(score_dir); \n",
    "%matplotlib inline\n",
    "# Uncomment the next lines to auto-reload libraries (this causes some problem with pickles in Python 3)\n",
    "%load_ext autoreload\n",
    "%autoreload 2\n",
    "import warnings\n",
    "warnings.simplefilter(action='ignore', category=FutureWarning)\n",
    "from data_io import read_as_df\n",
    "import numpy as np\n",
    "from matplotlib import pyplot as plt\n",
    "from data_manager import DataManager"
   ]
  },
  {
   "cell_type": "code",
   "execution_count": 83,
   "metadata": {},
   "outputs": [],
   "source": [
    "# plot curves of loss and accurary during training\n",
    "def plot_loss_acc(history):\n",
    "    acc = history.history['acc']\n",
    "    val_acc = history.history['val_acc']\n",
    "    loss = history.history['loss']\n",
    "    val_loss = history.history['val_loss']\n",
    "\n",
    "    epochs = range(1,len(acc) + 1)\n",
    "\n",
    "    plt.plot(epochs, acc, 'bo', label='Training acc')\n",
    "    plt.plot(epochs, val_acc, 'b', label='Validation acc')\n",
    "    plt.title('Training and validation accuracy')\n",
    "    plt.legend()\n",
    "\n",
    "    plt.figure()\n",
    "\n",
    "    plt.plot(epochs, loss, 'bo', label='Training loss')\n",
    "    plt.plot(epochs, val_loss, 'b', label='Validation loss')\n",
    "    plt.title('Training and validation loss')\n",
    "    plt.legend()\n",
    "\n",
    "    plt.show()"
   ]
  },
  {
   "cell_type": "code",
   "execution_count": 20,
   "metadata": {},
   "outputs": [
    {
     "name": "stdout",
     "output_type": "stream",
     "text": [
      "Reading sample_data/microscopy_train from AutoML format\n",
      "Number of examples = 500\n",
      "Number of features = 4800\n",
      "      Class\n",
      "0  negative\n",
      "1  positive\n",
      "Number of classes = 2\n"
     ]
    }
   ],
   "source": [
    "data_dir = 'sample_data'\n",
    "data_name = 'microscopy'\n",
    "data = read_as_df(data_dir  + '/' + data_name) "
   ]
  },
  {
   "cell_type": "code",
   "execution_count": 118,
   "metadata": {},
   "outputs": [
    {
     "name": "stdout",
     "output_type": "stream",
     "text": [
      "Info file found : /home/aux/starting_kit/sample_data/microscopy_public.info\n",
      "DataManager : microscopy\n",
      "info:\n",
      "\tusage = Sample dataset Microscopy data\n",
      "\tname = microscopy\n",
      "\ttask = binary.classification\n",
      "\ttarget_type = Numerical\n",
      "\tfeat_type = Numerical\n",
      "\tmetric = auc_binary\n",
      "\ttime_budget = 1200\n",
      "\tfeat_num = 4800\n",
      "\ttarget_num = 1\n",
      "\tlabel_num = 1\n",
      "\ttrain_num = 100\n",
      "\tvalid_num = 500\n",
      "\ttest_num = 500\n",
      "\thas_categorical = 0\n",
      "\thas_missing = 0\n",
      "\tis_sparse = 0\n",
      "\tformat = dense\n",
      "data:\n",
      "\tX_train = array(500, 4800)\n",
      "\tY_train = array(500,)\n",
      "\tX_valid = array(500, 4800)\n",
      "\tY_valid = array(500,)\n",
      "\tX_test = array(500, 4800)\n",
      "\tY_test = array(500,)\n",
      "feat_type:\tarray(4800,)\n",
      "feat_idx:\tarray(0,)\n",
      "\n"
     ]
    }
   ],
   "source": [
    "D = DataManager(data_name, data_dir, replace_missing=True)\n",
    "print(D)"
   ]
  },
  {
   "cell_type": "code",
   "execution_count": 86,
   "metadata": {},
   "outputs": [],
   "source": [
    "x_train = D.data['X_train']\n",
    "y_train = D.data['Y_train']\n",
    "x_valid = D.data['X_valid']\n",
    "y_valid = D.data['Y_valid']"
   ]
  },
  {
   "cell_type": "code",
   "execution_count": null,
   "metadata": {},
   "outputs": [],
   "source": []
  },
  {
   "cell_type": "code",
   "execution_count": 90,
   "metadata": {},
   "outputs": [],
   "source": [
    "x_train = x_train.reshape((len(x_train), 40,40,3))\n",
    "x_valid = x_valid.reshape((len(x_valid), 40,40,3))"
   ]
  },
  {
   "cell_type": "code",
   "execution_count": null,
   "metadata": {},
   "outputs": [],
   "source": []
  },
  {
   "cell_type": "code",
   "execution_count": 102,
   "metadata": {},
   "outputs": [],
   "source": [
    "train_datagen = ImageDataGenerator(rescale=1./255,\n",
    "                                   rotation_range=40, \n",
    "                                 width_shift_range=0.2,\n",
    "                                 height_shift_range=0.2,\n",
    "                                 shear_range=0.2,\n",
    "                                 zoom_range=0.2,\n",
    "                                 horizontal_flip=True,)\n"
   ]
  },
  {
   "cell_type": "code",
   "execution_count": 75,
   "metadata": {
    "scrolled": true
   },
   "outputs": [],
   "source": [
    "\"\"\"label_enc = preprocessing.LabelEncoder()\n",
    "target = label_enc.fit_transform(data.target)\n",
    "\"\"\""
   ]
  },
  {
   "cell_type": "code",
   "execution_count": 103,
   "metadata": {},
   "outputs": [
    {
     "name": "stdout",
     "output_type": "stream",
     "text": [
      "data batch shape: (10, 40, 40, 3)\n",
      "labels batch shape: (10,)\n"
     ]
    }
   ],
   "source": [
    "train_generator = train_datagen.flow(x_train, y=y_train, batch_size=10)\n",
    "valid_generator = valid_datagen.flow(x_valid, y=y_valid, batch_size=10)\n",
    "for data_batch, labels_batch in train_generator:\n",
    "    print('data batch shape:', data_batch.shape)\n",
    "    print('labels batch shape:', labels_batch.shape)\n",
    "    break"
   ]
  },
  {
   "cell_type": "code",
   "execution_count": 107,
   "metadata": {},
   "outputs": [],
   "source": [
    "model = models.Sequential()\n",
    "model.add(layers.Conv2D(32, (3,3), activation='relu', input_shape=(40, 40, 3)))\n",
    "model.add(layers.MaxPooling2D((2,2)))\n",
    "model.add(layers.Conv2D(64, (3,3), activation='relu'))\n",
    "model.add(layers.MaxPooling2D((2,2)))\n",
    "model.add(layers.Flatten())\n",
    "model.add(layers.Dense(256, activation='relu'))\n",
    "model.add(layers.Dense(1, activation='sigmoid'))"
   ]
  },
  {
   "cell_type": "code",
   "execution_count": 108,
   "metadata": {},
   "outputs": [
    {
     "name": "stdout",
     "output_type": "stream",
     "text": [
      "Model: \"sequential_8\"\n",
      "_________________________________________________________________\n",
      "Layer (type)                 Output Shape              Param #   \n",
      "=================================================================\n",
      "conv2d_18 (Conv2D)           (None, 38, 38, 32)        896       \n",
      "_________________________________________________________________\n",
      "max_pooling2d_18 (MaxPooling (None, 19, 19, 32)        0         \n",
      "_________________________________________________________________\n",
      "conv2d_19 (Conv2D)           (None, 17, 17, 64)        18496     \n",
      "_________________________________________________________________\n",
      "max_pooling2d_19 (MaxPooling (None, 8, 8, 64)          0         \n",
      "_________________________________________________________________\n",
      "flatten_7 (Flatten)          (None, 4096)              0         \n",
      "_________________________________________________________________\n",
      "dense_14 (Dense)             (None, 256)               1048832   \n",
      "_________________________________________________________________\n",
      "dense_15 (Dense)             (None, 1)                 257       \n",
      "=================================================================\n",
      "Total params: 1,068,481\n",
      "Trainable params: 1,068,481\n",
      "Non-trainable params: 0\n",
      "_________________________________________________________________\n"
     ]
    }
   ],
   "source": [
    "model.summary()"
   ]
  },
  {
   "cell_type": "code",
   "execution_count": 109,
   "metadata": {},
   "outputs": [
    {
     "name": "stdout",
     "output_type": "stream",
     "text": [
      "Epoch 1/20\n",
      "50/50 [==============================] - 4s 76ms/step - loss: 0.7018 - acc: 0.5020 - val_loss: 11.9871 - val_acc: 0.5640\n",
      "Epoch 2/20\n",
      "50/50 [==============================] - 2s 39ms/step - loss: 0.6898 - acc: 0.5240 - val_loss: 7.1436 - val_acc: 0.4400\n",
      "Epoch 3/20\n",
      "50/50 [==============================] - 2s 37ms/step - loss: 0.6902 - acc: 0.5200 - val_loss: 30.3809 - val_acc: 0.5640\n",
      "Epoch 4/20\n",
      "50/50 [==============================] - 2s 41ms/step - loss: 0.6817 - acc: 0.5700 - val_loss: 53.7972 - val_acc: 0.5640\n",
      "Epoch 5/20\n",
      "50/50 [==============================] - 2s 39ms/step - loss: 0.6824 - acc: 0.5840 - val_loss: 42.8726 - val_acc: 0.5680\n",
      "Epoch 6/20\n",
      "50/50 [==============================] - 2s 39ms/step - loss: 0.6779 - acc: 0.5380 - val_loss: 64.4539 - val_acc: 0.5680\n",
      "Epoch 7/20\n",
      "50/50 [==============================] - 2s 38ms/step - loss: 0.6795 - acc: 0.5500 - val_loss: 13.5756 - val_acc: 0.6440\n",
      "Epoch 8/20\n",
      "50/50 [==============================] - 2s 43ms/step - loss: 0.6736 - acc: 0.5980 - val_loss: 26.6492 - val_acc: 0.6100\n",
      "Epoch 9/20\n",
      "50/50 [==============================] - 2s 37ms/step - loss: 0.6694 - acc: 0.6100 - val_loss: 36.4724 - val_acc: 0.5920\n",
      "Epoch 10/20\n",
      "50/50 [==============================] - 2s 38ms/step - loss: 0.6603 - acc: 0.6140 - val_loss: 19.7429 - val_acc: 0.6700\n",
      "Epoch 11/20\n",
      "50/50 [==============================] - 2s 39ms/step - loss: 0.6619 - acc: 0.6180 - val_loss: 23.8771 - val_acc: 0.7060\n",
      "Epoch 12/20\n",
      "50/50 [==============================] - 2s 42ms/step - loss: 0.6550 - acc: 0.6080 - val_loss: 27.4595 - val_acc: 0.6280\n",
      "Epoch 13/20\n",
      "50/50 [==============================] - 2s 44ms/step - loss: 0.6554 - acc: 0.6460 - val_loss: 67.1127 - val_acc: 0.5940\n",
      "Epoch 14/20\n",
      "50/50 [==============================] - 2s 39ms/step - loss: 0.6560 - acc: 0.6520 - val_loss: 34.0218 - val_acc: 0.7000\n",
      "Epoch 15/20\n",
      "50/50 [==============================] - 2s 40ms/step - loss: 0.6523 - acc: 0.6300 - val_loss: 24.5499 - val_acc: 0.7260\n",
      "Epoch 16/20\n",
      "50/50 [==============================] - 2s 43ms/step - loss: 0.6440 - acc: 0.6400 - val_loss: 34.5947 - val_acc: 0.7080\n",
      "Epoch 17/20\n",
      "50/50 [==============================] - 2s 42ms/step - loss: 0.6408 - acc: 0.6480 - val_loss: 36.8554 - val_acc: 0.7000\n",
      "Epoch 18/20\n",
      "50/50 [==============================] - 2s 41ms/step - loss: 0.6343 - acc: 0.6760 - val_loss: 32.1017 - val_acc: 0.6920\n",
      "Epoch 19/20\n",
      "50/50 [==============================] - 2s 40ms/step - loss: 0.6271 - acc: 0.6800 - val_loss: 43.2274 - val_acc: 0.6820\n",
      "Epoch 20/20\n",
      "50/50 [==============================] - 2s 41ms/step - loss: 0.6302 - acc: 0.6740 - val_loss: 68.7257 - val_acc: 0.6200\n"
     ]
    }
   ],
   "source": [
    "\n",
    "\n",
    "model.compile(loss='binary_crossentropy',\n",
    "              optimizer=optimizers.RMSprop(lr=1e-4),\n",
    "              metrics=['acc'])\n",
    "history = model.fit_generator(train_generator,steps_per_epoch=50, epochs=20,\n",
    "                              validation_data=valid_generator, validation_steps=50)"
   ]
  },
  {
   "cell_type": "code",
   "execution_count": 34,
   "metadata": {},
   "outputs": [
    {
     "name": "stdout",
     "output_type": "stream",
     "text": [
      "Downloading data from https://github.com/fchollet/deep-learning-models/releases/download/v0.1/vgg16_weights_tf_dim_ordering_tf_kernels_notop.h5\n",
      "58892288/58889256 [==============================] - 4s 0us/step\n"
     ]
    }
   ],
   "source": [
    "conv_base = VGG16(weights='imagenet',\n",
    "                  include_top=False,\n",
    "                  input_shape=(40,40,3))"
   ]
  },
  {
   "cell_type": "code",
   "execution_count": null,
   "metadata": {},
   "outputs": [],
   "source": []
  },
  {
   "cell_type": "code",
   "execution_count": 110,
   "metadata": {},
   "outputs": [
    {
     "data": {
      "image/png": "[encoded data removed]",
      "text/plain": [
       "<Figure size 432x288 with 1 Axes>"
      ]
     },
     "metadata": {
      "needs_background": "light"
     },
     "output_type": "display_data"
    },
    {
     "data": {
      "image/png": "[encoded data removed]",
      "text/plain": [
       "<Figure size 432x288 with 1 Axes>"
      ]
     },
     "metadata": {
      "needs_background": "light"
     },
     "output_type": "display_data"
    }
   ],
   "source": [
    "plot_loss_acc(history)"
   ]
  },
  {
   "cell_type": "code",
   "execution_count": null,
   "metadata": {},
   "outputs": [],
   "source": []
  },
  {
   "cell_type": "code",
   "execution_count": 115,
   "metadata": {},
   "outputs": [],
   "source": [
    "batch_size=10\n",
    "def extract_features(generator, sample_count):\n",
    "    features = np.zeros(shape=(sample_count, 4, 4, 512))\n",
    "    labels = np.zeros(shape=(sample_count))\n",
    "    generator = generator\n",
    "    i=0\n",
    "    for inputs_batch, labels_batch in generator:\n",
    "        features_batch = conv_base.predict(inputs_batch)\n",
    "        features[i * batch_size : (i+1) * batch_size] = features_batch\n",
    "        labels[i * batch_size : (i + 1) * batch_size] = labels_batch\n",
    "        i += 1\n",
    "        if i*batch_size >= sample_count:\n",
    "            break\n",
    "    return features, labels\n",
    "\n",
    "train_features, train_labels = extract_features(train_generator, 500)\n",
    "validation_features, validation_labels = extract_features(valid_generator, 500)\n",
    "\n",
    "# flatten extracted features to be able to feed them to a densely connected layer\n",
    "train_features = np.reshape(train_features, (500, 4*4*512))\n",
    "validation_features = np.reshape(validation_features, (500, 4* 4*512))"
   ]
  },
  {
   "cell_type": "code",
   "execution_count": 116,
   "metadata": {
    "scrolled": true
   },
   "outputs": [
    {
     "name": "stdout",
     "output_type": "stream",
     "text": [
      "Train on 500 samples, validate on 500 samples\n",
      "Epoch 1/30\n",
      "500/500 [==============================] - 1s 2ms/sample - loss: 0.6989 - acc: 0.5820 - val_loss: 1.8557 - val_acc: 0.4900\n",
      "Epoch 2/30\n",
      "500/500 [==============================] - 1s 1ms/sample - loss: 0.6531 - acc: 0.6220 - val_loss: 0.5468 - val_acc: 0.7700\n",
      "Epoch 3/30\n",
      "500/500 [==============================] - 1s 2ms/sample - loss: 0.6115 - acc: 0.6580 - val_loss: 0.4274 - val_acc: 0.8620\n",
      "Epoch 4/30\n",
      "500/500 [==============================] - 1s 1ms/sample - loss: 0.5473 - acc: 0.7340 - val_loss: 0.6110 - val_acc: 0.8280\n",
      "Epoch 5/30\n",
      "500/500 [==============================] - 1s 2ms/sample - loss: 0.5395 - acc: 0.7560 - val_loss: 0.3729 - val_acc: 0.9200\n",
      "Epoch 6/30\n",
      "500/500 [==============================] - 1s 2ms/sample - loss: 0.5118 - acc: 0.7780 - val_loss: 0.4586 - val_acc: 0.9160\n",
      "Epoch 7/30\n",
      "500/500 [==============================] - 1s 2ms/sample - loss: 0.4870 - acc: 0.8360 - val_loss: 0.5745 - val_acc: 0.9120\n",
      "Epoch 8/30\n",
      "500/500 [==============================] - 1s 1ms/sample - loss: 0.4609 - acc: 0.8380 - val_loss: 0.5319 - val_acc: 0.9220\n",
      "Epoch 9/30\n",
      "500/500 [==============================] - 1s 1ms/sample - loss: 0.4417 - acc: 0.8300 - val_loss: 0.5587 - val_acc: 0.9220\n",
      "Epoch 10/30\n",
      "500/500 [==============================] - 1s 2ms/sample - loss: 0.4321 - acc: 0.8500 - val_loss: 0.6148 - val_acc: 0.9180\n",
      "Epoch 11/30\n",
      "500/500 [==============================] - 1s 2ms/sample - loss: 0.4177 - acc: 0.8460 - val_loss: 0.7192 - val_acc: 0.9120\n",
      "Epoch 12/30\n",
      "500/500 [==============================] - 1s 2ms/sample - loss: 0.3994 - acc: 0.8700 - val_loss: 0.7756 - val_acc: 0.9120\n",
      "Epoch 13/30\n",
      "500/500 [==============================] - 1s 2ms/sample - loss: 0.3978 - acc: 0.8680 - val_loss: 0.7824 - val_acc: 0.9160\n",
      "Epoch 14/30\n",
      "500/500 [==============================] - 1s 2ms/sample - loss: 0.3727 - acc: 0.8640 - val_loss: 0.8500 - val_acc: 0.9160\n",
      "Epoch 15/30\n",
      "500/500 [==============================] - 1s 2ms/sample - loss: 0.3650 - acc: 0.8740 - val_loss: 0.9748 - val_acc: 0.9040\n",
      "Epoch 16/30\n",
      "500/500 [==============================] - 1s 2ms/sample - loss: 0.3574 - acc: 0.9080 - val_loss: 0.9862 - val_acc: 0.9100\n",
      "Epoch 17/30\n",
      "500/500 [==============================] - 1s 2ms/sample - loss: 0.3452 - acc: 0.9020 - val_loss: 1.0823 - val_acc: 0.9040\n",
      "Epoch 18/30\n",
      "500/500 [==============================] - 1s 1ms/sample - loss: 0.3403 - acc: 0.9100 - val_loss: 1.0255 - val_acc: 0.9200\n",
      "Epoch 19/30\n",
      "500/500 [==============================] - 1s 1ms/sample - loss: 0.3335 - acc: 0.8940 - val_loss: 1.1874 - val_acc: 0.9080\n",
      "Epoch 20/30\n",
      "500/500 [==============================] - 1s 2ms/sample - loss: 0.3209 - acc: 0.9120 - val_loss: 1.2509 - val_acc: 0.9080\n",
      "Epoch 21/30\n",
      "500/500 [==============================] - 1s 2ms/sample - loss: 0.3169 - acc: 0.9000 - val_loss: 1.3266 - val_acc: 0.9080\n",
      "Epoch 22/30\n",
      "500/500 [==============================] - 1s 1ms/sample - loss: 0.3103 - acc: 0.9080 - val_loss: 1.2993 - val_acc: 0.9160\n",
      "Epoch 23/30\n",
      "500/500 [==============================] - 1s 1ms/sample - loss: 0.2992 - acc: 0.9280 - val_loss: 1.3175 - val_acc: 0.9160\n",
      "Epoch 24/30\n",
      "500/500 [==============================] - 1s 2ms/sample - loss: 0.3025 - acc: 0.9120 - val_loss: 1.4378 - val_acc: 0.9160\n",
      "Epoch 25/30\n",
      "500/500 [==============================] - 1s 1ms/sample - loss: 0.2904 - acc: 0.9020 - val_loss: 1.5877 - val_acc: 0.9140\n",
      "Epoch 26/30\n",
      "500/500 [==============================] - 1s 1ms/sample - loss: 0.2910 - acc: 0.9160 - val_loss: 1.4568 - val_acc: 0.9160\n",
      "Epoch 27/30\n",
      "500/500 [==============================] - 1s 2ms/sample - loss: 0.2764 - acc: 0.9080 - val_loss: 1.6780 - val_acc: 0.9140\n",
      "Epoch 28/30\n",
      "500/500 [==============================] - 1s 2ms/sample - loss: 0.2731 - acc: 0.9220 - val_loss: 1.6409 - val_acc: 0.9160\n",
      "Epoch 29/30\n",
      "500/500 [==============================] - 1s 2ms/sample - loss: 0.2716 - acc: 0.9280 - val_loss: 1.7257 - val_acc: 0.9160\n",
      "Epoch 30/30\n",
      "500/500 [==============================] - 1s 2ms/sample - loss: 0.2690 - acc: 0.9160 - val_loss: 1.7629 - val_acc: 0.9160\n"
     ]
    }
   ],
   "source": [
    "# define and train densely connected classifier\n",
    "model_p1 = models.Sequential()\n",
    "model_p1.add(layers.Dense(256, activation='relu', input_dim=4*4*512))\n",
    "model_p1.add(layers.Dropout(0.5))\n",
    "model_p1.add(layers.Dense(1, activation='sigmoid'))\n",
    "\n",
    "model_p1.compile(optimizer=optimizers.RMSprop(lr=2e-5),\n",
    "                 loss='binary_crossentropy',\n",
    "                 metrics=['acc'])\n",
    "\n",
    "history_p1 = model_p1.fit(train_features, train_labels, epochs=30,\n",
    "                          batch_size=20,\n",
    "                          validation_data=(validation_features, validation_labels))\n"
   ]
  },
  {
   "cell_type": "code",
   "execution_count": 117,
   "metadata": {},
   "outputs": [
    {
     "data": {
      "image/png": "[encoded data removed]",
      "text/plain": [
       "<Figure size 432x288 with 1 Axes>"
      ]
     },
     "metadata": {
      "needs_background": "light"
     },
     "output_type": "display_data"
    },
    {
     "data": {
      "image/png": "[encoded data removed]",
      "text/plain": [
       "<Figure size 432x288 with 1 Axes>"
      ]
     },
     "metadata": {
      "needs_background": "light"
     },
     "output_type": "display_data"
    }
   ],
   "source": [
    "plot_loss_acc(history_p1)"
   ]
  },
  {
   "cell_type": "code",
   "execution_count": 122,
   "metadata": {},
   "outputs": [
    {
     "ename": "ValueError",
     "evalue": "Error when checking input: expected dense_16_input to have 2 dimensions, but got array with shape (500, 40, 40, 3)",
     "output_type": "error",
     "traceback": [
      "\u001b[0;31m---------------------------------------------------------------------------\u001b[0m",
      "\u001b[0;31mValueError\u001b[0m                                Traceback (most recent call last)",
      "\u001b[0;32m<ipython-input-122-9dd7bfb80563>\u001b[0m in \u001b[0;36m<module>\u001b[0;34m\u001b[0m\n\u001b[0;32m----> 1\u001b[0;31m \u001b[0mmodel_p1\u001b[0m\u001b[0;34m.\u001b[0m\u001b[0mpredict_proba\u001b[0m\u001b[0;34m(\u001b[0m\u001b[0mx_train\u001b[0m\u001b[0;34m)\u001b[0m\u001b[0;34m\u001b[0m\u001b[0m\n\u001b[0m",
      "\u001b[0;32m/usr/local/lib/python3.6/dist-packages/tensorflow/python/keras/engine/sequential.py\u001b[0m in \u001b[0;36mpredict_proba\u001b[0;34m(self, x, batch_size, verbose)\u001b[0m\n\u001b[1;32m    289\u001b[0m         \u001b[0mA\u001b[0m \u001b[0mNumpy\u001b[0m \u001b[0marray\u001b[0m \u001b[0mof\u001b[0m \u001b[0mprobability\u001b[0m \u001b[0mpredictions\u001b[0m\u001b[0;34m.\u001b[0m\u001b[0;34m\u001b[0m\u001b[0m\n\u001b[1;32m    290\u001b[0m     \"\"\"\n\u001b[0;32m--> 291\u001b[0;31m     \u001b[0mpreds\u001b[0m \u001b[0;34m=\u001b[0m \u001b[0mself\u001b[0m\u001b[0;34m.\u001b[0m\u001b[0mpredict\u001b[0m\u001b[0;34m(\u001b[0m\u001b[0mx\u001b[0m\u001b[0;34m,\u001b[0m \u001b[0mbatch_size\u001b[0m\u001b[0;34m,\u001b[0m \u001b[0mverbose\u001b[0m\u001b[0;34m)\u001b[0m\u001b[0;34m\u001b[0m\u001b[0m\n\u001b[0m\u001b[1;32m    292\u001b[0m     \u001b[0;32mif\u001b[0m \u001b[0mpreds\u001b[0m\u001b[0;34m.\u001b[0m\u001b[0mmin\u001b[0m\u001b[0;34m(\u001b[0m\u001b[0;34m)\u001b[0m \u001b[0;34m<\u001b[0m \u001b[0;36m0.\u001b[0m \u001b[0;32mor\u001b[0m \u001b[0mpreds\u001b[0m\u001b[0;34m.\u001b[0m\u001b[0mmax\u001b[0m\u001b[0;34m(\u001b[0m\u001b[0;34m)\u001b[0m \u001b[0;34m>\u001b[0m \u001b[0;36m1.\u001b[0m\u001b[0;34m:\u001b[0m\u001b[0;34m\u001b[0m\u001b[0m\n\u001b[1;32m    293\u001b[0m       logging.warning('Network returning invalid probability values. '\n",
      "\u001b[0;32m/usr/local/lib/python3.6/dist-packages/tensorflow/python/keras/engine/training.py\u001b[0m in \u001b[0;36mpredict\u001b[0;34m(self, x, batch_size, verbose, steps, callbacks, max_queue_size, workers, use_multiprocessing)\u001b[0m\n\u001b[1;32m   1147\u001b[0m     \u001b[0;31m# generate symbolic tensors).\u001b[0m\u001b[0;34m\u001b[0m\u001b[0;34m\u001b[0m\u001b[0m\n\u001b[1;32m   1148\u001b[0m     x, _, _ = self._standardize_user_data(\n\u001b[0;32m-> 1149\u001b[0;31m         x, check_steps=True, steps_name='steps', steps=steps)\n\u001b[0m\u001b[1;32m   1150\u001b[0m \u001b[0;34m\u001b[0m\u001b[0m\n\u001b[1;32m   1151\u001b[0m     \u001b[0;32mif\u001b[0m \u001b[0mself\u001b[0m\u001b[0;34m.\u001b[0m\u001b[0mrun_eagerly\u001b[0m\u001b[0;34m:\u001b[0m\u001b[0;34m\u001b[0m\u001b[0m\n",
      "\u001b[0;32m/usr/local/lib/python3.6/dist-packages/tensorflow/python/keras/engine/training.py\u001b[0m in \u001b[0;36m_standardize_user_data\u001b[0;34m(self, x, y, sample_weight, class_weight, batch_size, check_steps, steps_name, steps, validation_split, shuffle, extract_tensors_from_dataset)\u001b[0m\n\u001b[1;32m   2594\u001b[0m           \u001b[0mfeed_input_shapes\u001b[0m\u001b[0;34m,\u001b[0m\u001b[0;34m\u001b[0m\u001b[0m\n\u001b[1;32m   2595\u001b[0m           \u001b[0mcheck_batch_axis\u001b[0m\u001b[0;34m=\u001b[0m\u001b[0;32mFalse\u001b[0m\u001b[0;34m,\u001b[0m  \u001b[0;31m# Don't enforce the batch size.\u001b[0m\u001b[0;34m\u001b[0m\u001b[0m\n\u001b[0;32m-> 2596\u001b[0;31m           exception_prefix='input')\n\u001b[0m\u001b[1;32m   2597\u001b[0m \u001b[0;34m\u001b[0m\u001b[0m\n\u001b[1;32m   2598\u001b[0m     \u001b[0;32mif\u001b[0m \u001b[0my\u001b[0m \u001b[0;32mis\u001b[0m \u001b[0;32mnot\u001b[0m \u001b[0;32mNone\u001b[0m\u001b[0;34m:\u001b[0m\u001b[0;34m\u001b[0m\u001b[0m\n",
      "\u001b[0;32m/usr/local/lib/python3.6/dist-packages/tensorflow/python/keras/engine/training_utils.py\u001b[0m in \u001b[0;36mstandardize_input_data\u001b[0;34m(data, names, shapes, check_batch_axis, exception_prefix)\u001b[0m\n\u001b[1;32m    338\u001b[0m                            \u001b[0;34m': expected '\u001b[0m \u001b[0;34m+\u001b[0m \u001b[0mnames\u001b[0m\u001b[0;34m[\u001b[0m\u001b[0mi\u001b[0m\u001b[0;34m]\u001b[0m \u001b[0;34m+\u001b[0m \u001b[0;34m' to have '\u001b[0m \u001b[0;34m+\u001b[0m\u001b[0;34m\u001b[0m\u001b[0m\n\u001b[1;32m    339\u001b[0m                            \u001b[0mstr\u001b[0m\u001b[0;34m(\u001b[0m\u001b[0mlen\u001b[0m\u001b[0;34m(\u001b[0m\u001b[0mshape\u001b[0m\u001b[0;34m)\u001b[0m\u001b[0;34m)\u001b[0m \u001b[0;34m+\u001b[0m \u001b[0;34m' dimensions, but got array '\u001b[0m\u001b[0;34m\u001b[0m\u001b[0m\n\u001b[0;32m--> 340\u001b[0;31m                            'with shape ' + str(data_shape))\n\u001b[0m\u001b[1;32m    341\u001b[0m         \u001b[0;32mif\u001b[0m \u001b[0;32mnot\u001b[0m \u001b[0mcheck_batch_axis\u001b[0m\u001b[0;34m:\u001b[0m\u001b[0;34m\u001b[0m\u001b[0m\n\u001b[1;32m    342\u001b[0m           \u001b[0mdata_shape\u001b[0m \u001b[0;34m=\u001b[0m \u001b[0mdata_shape\u001b[0m\u001b[0;34m[\u001b[0m\u001b[0;36m1\u001b[0m\u001b[0;34m:\u001b[0m\u001b[0;34m]\u001b[0m\u001b[0;34m\u001b[0m\u001b[0m\n",
      "\u001b[0;31mValueError\u001b[0m: Error when checking input: expected dense_16_input to have 2 dimensions, but got array with shape (500, 40, 40, 3)"
     ]
    }
   ],
   "source": [
    "model_p1.predict_proba(x_train)"
   ]
  },
  {
   "cell_type": "code",
   "execution_count": null,
   "metadata": {},
   "outputs": [],
   "source": []
  }
 ],
 "metadata": {
  "kernelspec": {
   "display_name": "Python 3",
   "language": "python",
   "name": "python3"
  },
  "language_info": {
   "codemirror_mode": {
    "name": "ipython",
    "version": 3
   },
   "file_extension": ".py",
   "mimetype": "text/x-python",
   "name": "python",
   "nbconvert_exporter": "python",
   "pygments_lexer": "ipython3",
   "version": "3.6.4+"
  }
 },
 "nbformat": 4,
 "nbformat_minor": 2
}
